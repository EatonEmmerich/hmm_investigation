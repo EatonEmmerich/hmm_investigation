{
 "metadata": {
  "name": "",
  "signature": "sha256:f367f848bdc479a3d81c2799552b5e5c9ca058e62ae4affe9e8cab40709d0d3d"
 },
 "nbformat": 3,
 "nbformat_minor": 0,
 "worksheets": [
  {
   "cells": [
    {
     "cell_type": "code",
     "collapsed": false,
     "input": [
      "import numpy as np\n",
      "from hmm import *\n",
      "from gaussian import Gaussian\n",
      "np.seterr(divide=\"ignore\") # Ignore issues with - log 0 - returns inf, as wanted"
     ],
     "language": "python",
     "metadata": {},
     "outputs": [
      {
       "metadata": {},
       "output_type": "pyout",
       "prompt_number": 24,
       "text": [
        "{'divide': 'warn', 'invalid': 'warn', 'over': 'warn', 'under': 'ignore'}"
       ]
      }
     ],
     "prompt_number": 24
    },
    {
     "cell_type": "code",
     "collapsed": false,
     "input": [
      "# Example lrtrans()\n",
      "print lrtrans(4)\n"
     ],
     "language": "python",
     "metadata": {},
     "outputs": [
      {
       "output_type": "stream",
       "stream": "stdout",
       "text": [
        "[[ 0.          0.25        0.25        0.25        0.25        0.        ]\n",
        " [ 0.          0.2         0.2         0.2         0.2         0.2       ]\n",
        " [ 0.          0.          0.25        0.25        0.25        0.25      ]\n",
        " [ 0.          0.          0.          0.33333333  0.33333333  0.33333333]\n",
        " [ 0.          0.          0.          0.          0.5         0.5       ]\n",
        " [ 0.          0.          0.          0.          0.          0.        ]]\n"
       ]
      }
     ],
     "prompt_number": 27
    },
    {
     "cell_type": "code",
     "collapsed": false,
     "input": [
      "# Example lrinit()\n",
      "\n",
      "states = lrinit(sum(range(7)), [np.zeros((3, i+1)) for i in range(6)], np.zeros((5, 5)))\n",
      "print states"
     ],
     "language": "python",
     "metadata": {},
     "outputs": [
      {
       "output_type": "stream",
       "stream": "stdout",
       "text": [
        "[[ 1.  0.  0.]\n",
        " [ 1.  0.  0.]\n",
        " [ 0.  1.  0.]\n",
        " [ 1.  0.  0.]\n",
        " [ 0.  1.  0.]\n",
        " [ 0.  0.  1.]\n",
        " [ 1.  0.  0.]\n",
        " [ 1.  0.  0.]\n",
        " [ 0.  1.  0.]\n",
        " [ 0.  0.  1.]\n",
        " [ 1.  0.  0.]\n",
        " [ 1.  0.  0.]\n",
        " [ 0.  1.  0.]\n",
        " [ 0.  1.  0.]\n",
        " [ 0.  0.  1.]\n",
        " [ 1.  0.  0.]\n",
        " [ 1.  0.  0.]\n",
        " [ 0.  1.  0.]\n",
        " [ 0.  1.  0.]\n",
        " [ 0.  0.  1.]\n",
        " [ 0.  0.  1.]]\n"
       ]
      }
     ],
     "prompt_number": 28
    },
    {
     "cell_type": "code",
     "collapsed": false,
     "input": [
      "# Example negloglik()\n",
      "\n",
      "prop = 0.3\n",
      "signal = np.array([[ 1. ,  1.1,  0.8,  0.2,  1.6,  1.7,  3.4,  1.4,  1.1]])\n",
      "signals = [signal] * 2\n",
      "trans = np.array([[ 0.  ,  1./3 ,  1./3 ,  1./3, 0.  ],\n",
      "        [ 0.  ,  0.45,  0.45,  0.,  0.1 ],\n",
      "        [ 0.  ,  0.45,  0.45,  0.,  0.1 ],\n",
      "        [ 0.  ,  0.  ,  0.  ,  1.,  0.  ],\n",
      "        [ 0.  ,  0.  ,  0.  ,  0.,  0.  ]])\n",
      "dists = [Gaussian(mean=np.array([1]),cov=np.array([[1]])), \n",
      "         Gaussian(mean=np.array([2]), cov=np.array([[1]])), \n",
      "         Gaussian(mean=np.array([1.5]),cov=np.array([[1]]))]\n",
      "nll = negloglik(signals, prop, trans, dists)\n",
      "print nll"
     ],
     "language": "python",
     "metadata": {},
     "outputs": [
      {
       "output_type": "stream",
       "stream": "stdout",
       "text": [
        "40.3933843048\n"
       ]
      }
     ],
     "prompt_number": 29
    },
    {
     "cell_type": "code",
     "collapsed": false,
     "input": [
      "# Example Viterbi\n",
      "\n",
      "signal = np.array([[ 1. ,  1.1,  0.8,  0.2,  1.6,  1.7,  3.4,  1.4,  1.1]])\n",
      "trans = np.array([[ 0.  ,  1./3 ,  1./3 ,  1./3, 0.  ],\n",
      "                  [ 0.  ,  0.45,  0.45,  0.,  0.1 ],\n",
      "                  [ 0.  ,  0.45,  0.45,  0.,  0.1 ],\n",
      "                  [ 0.  ,  0.  ,  0.  ,  1.,  0.  ],\n",
      "                  [ 0.  ,  0.  ,  0.  ,  0.,  0.  ]])\n",
      "dists = [Gaussian(mean=np.array([1]),cov=np.array([[1]])), \n",
      "         Gaussian(mean=np.array([2]),cov=np.array([[1]])), \n",
      "         Gaussian(mean=np.array([1.5]),cov=np.array([[1]]))]\n",
      "states = np.array([ 1,  1,  1,  1,  2,  2,  2,  1,  1])\n",
      "nll = 19.594705750246384\n",
      "vals, nll = viterbi(signal, trans, dists)\n",
      "print 'State sequence: ', vals\n",
      "print 'Negative log-likelihood:', nll"
     ],
     "language": "python",
     "metadata": {},
     "outputs": [
      {
       "output_type": "stream",
       "stream": "stdout",
       "text": [
        "State sequence:  [1 1 1 1 2 2 2 1 1]\n",
        "Negative log-likelihood: 19.5947057502\n"
       ]
      }
     ],
     "prompt_number": 30
    },
    {
     "cell_type": "code",
     "collapsed": false,
     "input": [
      "# Example calcstate()\n",
      "signal = np.array([[ 1. ,  1.1,  0.8,  0.2,  1.6,  1.7,  3.4,  1.4,  1.1]])\n",
      "signals = [signal] * 2\n",
      "trans = np.array([[ 0.  ,  1./3 ,  1./3 ,  1./3, 0.  ],\n",
      "                  [ 0.  ,  0.45,  0.45,  0.,  0.1 ],\n",
      "                  [ 0.  ,  0.45,  0.45,  0.,  0.1 ],\n",
      "                  [ 0.  ,  0.  ,  0.  ,  1.,  0.  ],\n",
      "                  [ 0.  ,  0.  ,  0.  ,  0.,  0.  ]])\n",
      "dists = [Gaussian(mean=np.array([1]),cov=np.array([[1]])), \n",
      "         Gaussian(mean=np.array([2]),cov=np.array([[1]])), \n",
      "         Gaussian(mean=np.array([1.5]),cov=np.array([[1]]))]\n",
      "states, newtrans, nll = calcstates(signals, trans, dists)\n",
      "print 'States: ' \n",
      "print states\n",
      "print 'Updated transition matrix: ' \n",
      "print newtrans\n",
      "print 'Negative log-likelihood: ', nll"
     ],
     "language": "python",
     "metadata": {},
     "outputs": [
      {
       "output_type": "stream",
       "stream": "stdout",
       "text": [
        "States: \n",
        "[[ 1.  0.]\n",
        " [ 1.  0.]\n",
        " [ 1.  0.]\n",
        " [ 1.  0.]\n",
        " [ 0.  1.]\n",
        " [ 0.  1.]\n",
        " [ 0.  1.]\n",
        " [ 1.  0.]\n",
        " [ 1.  0.]\n",
        " [ 1.  0.]\n",
        " [ 1.  0.]\n",
        " [ 1.  0.]\n",
        " [ 1.  0.]\n",
        " [ 0.  1.]\n",
        " [ 0.  1.]\n",
        " [ 0.  1.]\n",
        " [ 1.  0.]\n",
        " [ 1.  0.]]\n",
        "Updated transition matrix: \n",
        "[[ 0.          1.          0.          0.        ]\n",
        " [ 0.          0.66666667  0.16666667  0.16666667]\n",
        " [ 0.          0.33333333  0.66666667  0.        ]\n",
        " [ 0.          0.          0.          0.        ]]\n",
        "Negative log-likelihood:  39.1894115005\n"
       ]
      }
     ],
     "prompt_number": 31
    },
    {
     "cell_type": "code",
     "collapsed": false,
     "input": [
      "# Example updatenums()\n",
      "\n",
      "w = np.reshape(np.array(3 * [1, 0] + 2 * [0, 1]), (5, 2))\n",
      "print updatenums(w)\n",
      "\n"
     ],
     "language": "python",
     "metadata": {},
     "outputs": [
      {
       "output_type": "stream",
       "stream": "stdout",
       "text": [
        "[3 2]\n"
       ]
      }
     ],
     "prompt_number": 32
    },
    {
     "cell_type": "code",
     "collapsed": false,
     "input": [
      "# Example updatemeans()\n",
      "\n",
      "data = np.array(range(20)).reshape(4,5)\n",
      "w = np.reshape(np.array(3 * [1, 0] + 2 * [0, 1]), (5, 2))\n",
      "means = updatemeans(w, updatenums(w), data) \n",
      "print means"
     ],
     "language": "python",
     "metadata": {},
     "outputs": [
      {
       "output_type": "stream",
       "stream": "stdout",
       "text": [
        "[[  1.    3.5]\n",
        " [  6.    8.5]\n",
        " [ 11.   13.5]\n",
        " [ 16.   18.5]]\n"
       ]
      }
     ],
     "prompt_number": 33
    },
    {
     "cell_type": "code",
     "collapsed": false,
     "input": [
      "# Example updatecovs()\n",
      "data = np.array([[ 0.3323902 ,  1.39952168],\n",
      "                 [-3.09393968,  0.85202915],\n",
      "                 [ 0.3932616 ,  4.14018981],\n",
      "                 [ 2.71301182,  1.48606545],\n",
      "                 [ 0.76624929,  1.48450185],\n",
      "                 [-2.68682389, -2.20487651],\n",
      "                 [-1.50746076, -1.3965284 ],\n",
      "                 [-3.35436652, -2.70017904],\n",
      "                 [ 0.62831278, -0.14266899],\n",
      "                 [-3.13713063, -1.35515249]]).T\n",
      "w = np.reshape(3 * [1, 0] + 4 * [0, 1] + 3 * [1, 0], (10, 2))\n",
      "n = updatenums(w)\n",
      "m = updatemeans(w, n, data)\n",
      "cov = updatecovs(w, m, n, data)\n",
      "print 'Full covariance: '\n",
      "print cov \n",
      "cov = updatecovs(w, m, n, data, diagcov=True)\n",
      "print 'Diagonal covariance: '\n",
      "print cov"
     ],
     "language": "python",
     "metadata": {},
     "outputs": [
      {
       "output_type": "stream",
       "stream": "stdout",
       "text": [
        "Full covariance: \n",
        "[[[ 3.33881418  2.61431608]\n",
        "  [ 2.61431608  4.69524387]]\n",
        "\n",
        " [[ 4.32780425  3.27144308]\n",
        "  [ 3.27144308  2.78110481]]]\n",
        "Diagonal covariance: \n",
        "[[[ 3.33881418  0.        ]\n",
        "  [ 0.          4.69524387]]\n",
        "\n",
        " [[ 4.32780425  0.        ]\n",
        "  [ 0.          2.78110481]]]\n"
       ]
      }
     ],
     "prompt_number": 34
    },
    {
     "cell_type": "code",
     "collapsed": false,
     "input": [
      "# Example hmm()\n",
      "signal = np.array([[ 1. ,  1.1,  0.8,  0.2,  1.6,  1.7,  3.4,  1.4,  1.1]])\n",
      "data = np.hstack([signal] * 2)\n",
      "lengths = [9] * 2\n",
      "trans = np.array([[ 0.  ,  1./3 ,  1./3 ,  1./3, 0.  ],\n",
      "                  [ 0.  ,  0.45,  0.45,  0.,  0.1 ],\n",
      "                  [ 0.  ,  0.45,  0.45,  0.,  0.1 ],\n",
      "                  [ 0.  ,  0.  ,  0.  ,  1.,  0.  ],\n",
      "                  [ 0.  ,  0.  ,  0.  ,  0.,  0.  ]])\n",
      "\n",
      "trans, dists, nll = hmm(data, lengths, trans)\n",
      "print 'Transition matrix:'\n",
      "print trans\n",
      "print 'Means:'\n",
      "print [a.mean() for a in dists]\n",
      "print 'Covariances:'\n",
      "print [a.cov() for a in dists] \n",
      "print 'Negative log-likelihood: ', nll\n",
      "print 'Optimal state sequence:'\n",
      "print viterbi(signal, trans, dists)[0] "
     ],
     "language": "python",
     "metadata": {},
     "outputs": [
      {
       "output_type": "stream",
       "stream": "stdout",
       "text": [
        "Transition matrix:\n",
        "[[ 0.    1.    0.    0.  ]\n",
        " [ 0.    0.5   0.25  0.25]\n",
        " [ 0.    0.2   0.8   0.  ]\n",
        " [ 0.    0.    0.    0.  ]]\n",
        "Means:\n",
        "[array([ 1.]), array([ 1.66])]\n",
        "Covariances:\n",
        "[array([[ 0.015]]), array([[ 1.0464]])]\n",
        "Negative log-likelihood:  22.2906421969\n",
        "Optimal state sequence:\n",
        "[1 1 1 2 2 2 2 2 1]\n"
       ]
      }
     ],
     "prompt_number": 35
    }
   ],
   "metadata": {}
  }
 ]
}